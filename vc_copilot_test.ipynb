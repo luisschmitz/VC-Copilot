{
 "cells": [
  {
   "cell_type": "markdown",
   "metadata": {},
   "source": [
    "# VC Copilot Backend Demo\n",
    "\n",
    "This notebook demonstrates the backend functionality of the VC Copilot, showing:\n",
    "1. Website data collection\n",
    "2. Executive Summary generation\n",
    "3. Success Prediction\n",
    "\n",
    "Let's start by importing the necessary modules and setting up our environment."
   ]
  },
  {
   "cell_type": "code",
   "execution_count": 2,
   "metadata": {},
   "outputs": [
    {
     "name": "stdout",
     "output_type": "stream",
     "text": [
      "Loaded .env from /Users/luisschmitz/Desktop/Projekte/VC Copilot/VC-Copilot/backend/.env\n",
      "Environment and imports ready!\n"
     ]
    }
   ],
   "source": [
    "import os\n",
    "import sys\n",
    "import requests\n",
    "from dotenv import load_dotenv\n",
    "import json\n",
    "from pprint import pprint\n",
    "\n",
    "# Set project root and load .env before any backend imports\n",
    "project_root = os.path.abspath(os.path.join(os.getcwd()))\n",
    "env_path = os.path.join(project_root, 'backend', '.env')\n",
    "load_dotenv(env_path)\n",
    "print(f\"Loaded .env from {env_path}\")\n",
    "\n",
    "# Define API URL (assuming local development)\n",
    "API_URL = \"http://localhost:8000\"\n",
    "\n",
    "print(\"Environment and imports ready!\")"
   ]
  },
  {
   "cell_type": "markdown",
   "metadata": {},
   "source": [
    "## API Analysis"
   ]
  },
  {
   "cell_type": "code",
   "execution_count": 5,
   "metadata": {},
   "outputs": [
    {
     "name": "stdout",
     "output_type": "stream",
     "text": [
      "SCRAPED DATA:\n",
      "========================================\n",
      "Company: telli's AI Sales Agent & Auto Dialer\n",
      "Status: 200\n",
      "\n",
      "\n",
      "ANALYSIS OUTPUT:\n",
      "========================================\n",
      "\n",
      "Success Prediction: False\n",
      "Overall Assessment:\n",
      "Given the limited information provided about 'telli's AI Sales Agent & Auto Dialer' and its founders, it's difficult to make a comprehensive assessment. However, based on the available data, it's currently impossible to predict the founders' success. The product they are developing—AI for sales automation—fits the industry scalability criterion (Policy 1) as it's a tech product that could potentially scale. The mention of a $3.6 million fundraise suggests they have some validation in funding (Policy 4), but without knowing the investors, it's impossible to confirm the quality of this validation. The product's integration with CRMs could be a sign of market traction (Policy 7), but without user engagement metrics, retention rates, or growth figures, we can't determine its success. The description suggests the product offers a clear value proposition (Policy 16) as it claims to enhance sales, increase engagement, and reduce costs. However, without more detailed data about the founders such as their previous experience, skills, network quality, crisis management, role tenure, and their involvement in the ecosystem (Policies 9, 11, 12, 13, 15), it's impossible to make a reliable success prediction. There's also no information about their patents (Policy 2), press recognition (Policy 5), or third-party validation (Policy 14), which are crucial factors in assessing a founder's likelihood of success. Lastly, there's no data to evaluate their tech currency (Policy 17) or data consistency (Policy 18).\n",
      "\n",
      "Evaluation Criteria:\n",
      "\n",
      "\n",
      "COMPLETE RAW JSON:\n",
      "========================================\n",
      "{\n",
      "  \"company_name\": \"telli's AI Sales Agent & Auto Dialer\",\n",
      "  \"url\": \"https://telli.com\",\n",
      "  \"sections\": {\n",
      "    \"Executive Summary\": \"telli is a next-gen call operations platform leveraging AI to automate outreach and boost sales engagement. The startup has raised $3.6 million and offers a CRM-integrated solution that transforms leads into sales opportunities, effectively increasing conversions and reducing costs.\",\n",
      "    \"Key Insights\": \"telli's AI sales agents can conduct human-like conversations with customers, complete tasks end-to-end, and improve booking rates. The solution offers features such as branded caller ID, smart dialing strategy, dynamic number rotation, and automatic callback. The AI is designed to personalize every call, analyze calls at scale, and offer actionable insights. It can also maintain control of every conversation in real time and keep customers engaged through various channels.\",\n",
      "    \"Key Risks\": \"While AI technology offers many benefits, it also brings certain risks. Customers may not always respond positively to interactions with AI rather than humans. Furthermore, there is the risk of technical glitches or shortcomings in the AI's learning and adaptation capabilities. Also, the technology is reliant on data, and any issues with data quality, privacy, or security could impact operations.\",\n",
      "    \"Team Info\": \"The team's size, location strategy, and other details are not available from the website content. However, the company has successfully raised $3.6M, which suggests a team with a solid business plan and convincing pitch to investors.\",\n",
      "    \"Problem & Market\": \"The problem that telli is addressing is the inefficiency and high costs of traditional call operations in sales. The market is broad, including any businesses with a sales function that relies on call operations. This could include sectors like eCommerce, real estate, insurance, and more.\",\n",
      "    \"Solution & Product\": \"telli's AI Sales Agent & Auto Dialer solution automates sales calls, increasing engagement and reducing costs. It offers a variety of features, including AI that can lead human-like conversations, automatic scheduling for call attempts, dynamic number rotation, automatic callbacks, and more. It also offers the ability to monitor and analyze calls at scale, providing businesses with actionable insights.\",\n",
      "    \"Competition\": \"The information provided doesn't name specific competitors. However, the AI sales tech space includes competitors like Dialpad, Exotel, and RingCentral, among others.\",\n",
      "    \"Business Model\": \"telli's business model isn't explicitly stated, but it's likely based on a Software-as-a-Service (SaaS) model with recurring subscription fees. The pricing details are not provided.\",\n",
      "    \"Traction\": \"The website content suggests that telli has seen positive results from its solution, including a 12% increase in conversion rates, a 33% increase in booking rates, and recovered revenue of $120K. Also, telli reports a 5 p.p. booking conversion through time savings of sales people and 50% faster response times with potential customers.\",\n",
      "    \"Funding and Investors\": \"telli has raised $3.6 million in funding, but the investors are not named in the information provided.\",\n",
      "    \"Conclusion\": \"Overall, telli has developed a promising AI-based solution for sales call operations, which has the potential to significantly increase efficiency and reduce costs for businesses. The startup has already seen some success and has strong potential growth opportunities in the expansive sales tech market. The key challenges will be ensuring the technology continues to deliver high-quality, human-like interactions and managing the inherent risks associated with AI technology.\"\n",
      "  },\n",
      "  \"success_prediction\": false,\n",
      "  \"overall_assessment\": \"Given the limited information provided about 'telli's AI Sales Agent & Auto Dialer' and its founders, it's difficult to make a comprehensive assessment. However, based on the available data, it's currently impossible to predict the founders' success. The product they are developing\\u2014AI for sales automation\\u2014fits the industry scalability criterion (Policy 1) as it's a tech product that could potentially scale. The mention of a $3.6 million fundraise suggests they have some validation in funding (Policy 4), but without knowing the investors, it's impossible to confirm the quality of this validation. The product's integration with CRMs could be a sign of market traction (Policy 7), but without user engagement metrics, retention rates, or growth figures, we can't determine its success. The description suggests the product offers a clear value proposition (Policy 16) as it claims to enhance sales, increase engagement, and reduce costs. However, without more detailed data about the founders such as their previous experience, skills, network quality, crisis management, role tenure, and their involvement in the ecosystem (Policies 9, 11, 12, 13, 15), it's impossible to make a reliable success prediction. There's also no information about their patents (Policy 2), press recognition (Policy 5), or third-party validation (Policy 14), which are crucial factors in assessing a founder's likelihood of success. Lastly, there's no data to evaluate their tech currency (Policy 17) or data consistency (Policy 18).\",\n",
      "  \"evaluation_criteria\": {},\n",
      "  \"raw_llm_response\": \"**Executive Summary**\\n\\ntelli is a next-gen call operations platform leveraging AI to automate outreach and boost sales engagement. The startup has raised $3.6 million and offers a CRM-integrated solution that transforms leads into sales opportunities, effectively increasing conversions and reducing costs. \\n\\n**Key Insights**\\n\\ntelli's AI sales agents can conduct human-like conversations with customers, complete tasks end-to-end, and improve booking rates. The solution offers features such as branded caller ID, smart dialing strategy, dynamic number rotation, and automatic callback. The AI is designed to personalize every call, analyze calls at scale, and offer actionable insights. It can also maintain control of every conversation in real time and keep customers engaged through various channels.\\n\\n**Key Risks**\\n\\nWhile AI technology offers many benefits, it also brings certain risks. Customers may not always respond positively to interactions with AI rather than humans. Furthermore, there is the risk of technical glitches or shortcomings in the AI's learning and adaptation capabilities. Also, the technology is reliant on data, and any issues with data quality, privacy, or security could impact operations.\\n\\n**Team Info**\\n\\nThe team's size, location strategy, and other details are not available from the website content. However, the company has successfully raised $3.6M, which suggests a team with a solid business plan and convincing pitch to investors. \\n\\n**Problem & Market**\\n\\nThe problem that telli is addressing is the inefficiency and high costs of traditional call operations in sales. The market is broad, including any businesses with a sales function that relies on call operations. This could include sectors like eCommerce, real estate, insurance, and more. \\n\\n**Solution & Product**\\n\\ntelli's AI Sales Agent & Auto Dialer solution automates sales calls, increasing engagement and reducing costs. It offers a variety of features, including AI that can lead human-like conversations, automatic scheduling for call attempts, dynamic number rotation, automatic callbacks, and more. It also offers the ability to monitor and analyze calls at scale, providing businesses with actionable insights. \\n\\n**Competition**\\n\\nThe information provided doesn't name specific competitors. However, the AI sales tech space includes competitors like Dialpad, Exotel, and RingCentral, among others. \\n\\n**Business Model**\\n\\ntelli's business model isn't explicitly stated, but it's likely based on a Software-as-a-Service (SaaS) model with recurring subscription fees. The pricing details are not provided. \\n\\n**Traction**\\n\\nThe website content suggests that telli has seen positive results from its solution, including a 12% increase in conversion rates, a 33% increase in booking rates, and recovered revenue of $120K. Also, telli reports a 5 p.p. booking conversion through time savings of sales people and 50% faster response times with potential customers.\\n\\n**Funding and Investors**\\n\\ntelli has raised $3.6 million in funding, but the investors are not named in the information provided. \\n\\n**Conclusion**\\n\\nOverall, telli has developed a promising AI-based solution for sales call operations, which has the potential to significantly increase efficiency and reduce costs for businesses. The startup has already seen some success and has strong potential growth opportunities in the expansive sales tech market. The key challenges will be ensuring the technology continues to deliver high-quality, human-like interactions and managing the inherent risks associated with AI technology.\",\n",
      "  \"timestamp\": \"2025-06-04T13:15:51.159859\",\n",
      "  \"id\": \"40a01715-ef80-47f7-bab2-8b2f23ef71b3\"\n",
      "}\n"
     ]
    }
   ],
   "source": [
    "import requests\n",
    "import json\n",
    "\n",
    "startup_url = \"https://telli.com\"\n",
    "\n",
    "# Make API call\n",
    "try:\n",
    "    response = requests.post(\n",
    "        f\"{API_URL}/analyze\",\n",
    "        json={\n",
    "            \"url\": startup_url,\n",
    "            \"analysis_types\": [\"executive_summary\", \"success_prediction\"],\n",
    "            \"scrape_depth\": \"deep\"\n",
    "            # Remove unnecessary None parameters\n",
    "        }\n",
    "    )\n",
    "    \n",
    "    # Check if request was successful\n",
    "    response.raise_for_status()\n",
    "    \n",
    "    # Get result\n",
    "    result = response.json()\n",
    "    \n",
    "    # RAW SCRAPED DATA\n",
    "    print(\"SCRAPED DATA:\")\n",
    "    print(\"=\" * 40)\n",
    "    print(f\"Company: {result.get('company_name', 'N/A')}\")\n",
    "    print(f\"Status: {response.status_code}\")\n",
    "    \n",
    "    # RAW ANALYSIS OUTPUT\n",
    "    print(\"\\n\\nANALYSIS OUTPUT:\")\n",
    "    print(\"=\" * 40)\n",
    "    \n",
    "    if 'executive_summary' in result:\n",
    "        print(f\"Executive Summary:\\n{result['executive_summary']}\")\n",
    "    \n",
    "    if 'key_insights' in result and result['key_insights']:\n",
    "        print(f\"\\nKey Insights:\")\n",
    "        for insight in result['key_insights']:\n",
    "            print(f\"- {insight}\")\n",
    "    \n",
    "    if 'key_risks' in result and result['key_risks']:\n",
    "        print(f\"\\nKey Risks:\")\n",
    "        for risk in result['key_risks']:\n",
    "            print(f\"- {risk}\")\n",
    "    \n",
    "    if 'success_prediction' in result:\n",
    "        print(f\"\\nSuccess Prediction: {result['success_prediction']}\")\n",
    "    \n",
    "    if 'overall_assessment' in result:\n",
    "        print(f\"Overall Assessment:\\n{result['overall_assessment']}\")\n",
    "    \n",
    "    if 'evaluation_criteria' in result:\n",
    "        print(f\"\\nEvaluation Criteria:\")\n",
    "        for criterion, details in result['evaluation_criteria'].items():\n",
    "            print(f\"{criterion}: {details}\")\n",
    "    \n",
    "    # COMPLETE RAW JSON\n",
    "    print(\"\\n\\nCOMPLETE RAW JSON:\")\n",
    "    print(\"=\" * 40)\n",
    "    print(json.dumps(result, indent=2))\n",
    "\n",
    "except requests.exceptions.RequestException as e:\n",
    "    print(f\"API request failed: {e}\")\n",
    "except json.JSONDecodeError:\n",
    "    print(\"Failed to parse API response as JSON\")\n",
    "except Exception as e:\n",
    "    print(f\"An error occurred: {e}\")"
   ]
  },
  {
   "cell_type": "code",
   "execution_count": null,
   "metadata": {},
   "outputs": [],
   "source": []
  }
 ],
 "metadata": {
  "kernelspec": {
   "display_name": "Python 3 (ipykernel)",
   "language": "python",
   "name": "python3"
  },
  "language_info": {
   "codemirror_mode": {
    "name": "ipython",
    "version": 3
   },
   "file_extension": ".py",
   "mimetype": "text/x-python",
   "name": "python",
   "nbconvert_exporter": "python",
   "pygments_lexer": "ipython3",
   "version": "3.12.2"
  }
 },
 "nbformat": 4,
 "nbformat_minor": 4
}
